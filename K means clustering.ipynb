{
 "cells": [
  {
   "cell_type": "markdown",
   "metadata": {},
   "source": [
    "# K Means clustering"
   ]
  },
  {
   "cell_type": "code",
   "execution_count": 1,
   "metadata": {},
   "outputs": [
    {
     "name": "stdout",
     "output_type": "stream",
     "text": [
      "[[5.9, 3.2], [4.6, 2.9], [4.7, 3.2], [5.0, 3.0], [4.9, 3.1], [5.1, 3.8], [6.0, 3.0]]\n",
      "[[5.5, 4.2]]\n",
      "[[6.2, 2.8], [6.7, 3.1]]\n"
     ]
    }
   ],
   "source": [
    "import numpy\n",
    "import math\n",
    "c1=[]\n",
    "c2=[]\n",
    "c3=[]\n",
    "x1,y1=6.2,3.2\n",
    "x2,y2=6.6,3.7\n",
    "x3,y3=6.5,3.0\n",
    "points=[[5.9,3.2],\n",
    "        [4.6,2.9],[6.2,2.8],\n",
    "        [4.7,3.2],[5.5,4.2],\n",
    "        [5.0,3.0],[4.9,3.1],\n",
    "        [6.7,3.1],[5.1,3.8],\n",
    "        [6.0,3.0]]\n",
    "\n",
    "def ed(x,y):\n",
    "    d1=math.sqrt((x-x1)** 2 + (y-y1)**2)\n",
    "    d2=math.sqrt((x-x2)** 2 + (y-y2)**2)\n",
    "    d3=math.sqrt((x-x3)** 2 + (y-y3)**2)\n",
    "    m=min(d1,d2,d3)\n",
    "    if (m==d1):\n",
    "        c1.append([x,y])\n",
    "    elif(m==d2):\n",
    "        c2.append([x,y])\n",
    "    elif(m ==d3):\n",
    "        c3.append([x,y])\n",
    "\n",
    "for i,j in points:\n",
    "    ed(i,j)\n",
    "print(c1)\n",
    "print(c2)\n",
    "print(c3)"
   ]
  },
  {
   "cell_type": "code",
   "execution_count": 2,
   "metadata": {},
   "outputs": [
    {
     "name": "stdout",
     "output_type": "stream",
     "text": [
      "5.1714 3.1714\n",
      "[[4.6, 2.9], [4.7, 3.2], [5.0, 3.0], [4.9, 3.1], [5.1, 3.8]]\n"
     ]
    }
   ],
   "source": [
    "sumi=0\n",
    "sumj=0\n",
    "for i,j in c1:\n",
    "    sumi=sumi+i\n",
    "    sumj=sumj+j\n",
    "    \n",
    "n_x1=round(sumi/len(c1),4)\n",
    "n_y1=round(sumj/len(c1),4)\n",
    "print(n_x1,n_y1)\n",
    "\n",
    "c4=[]\n",
    "def n_ed(x,y):\n",
    "    n_d1=math.sqrt((x-n_x1)** 2 + (y-n_y1)**2)\n",
    "    if (n_d1 < math.sqrt((x-x1)** 2 + (y-y1)**2)):\n",
    "        c4.append([x,y])\n",
    "    else:\n",
    "        pass\n",
    "for i,j in c1:\n",
    "     n_ed(i,j)\n",
    "print(c4)"
   ]
  },
  {
   "cell_type": "code",
   "execution_count": 3,
   "metadata": {},
   "outputs": [
    {
     "name": "stdout",
     "output_type": "stream",
     "text": [
      "4.86 3.2\n"
     ]
    }
   ],
   "source": [
    "sumi=0\n",
    "sumj=0\n",
    "for i,j in c4:\n",
    "    sumi=sumi+i\n",
    "    sumj=sumj+j\n",
    "    \n",
    "n_x1=round(sumi/len(c4),4)\n",
    "n_y1=round(sumj/len(c4),4)\n",
    "print(n_x1,n_y1)"
   ]
  },
  {
   "cell_type": "code",
   "execution_count": 4,
   "metadata": {},
   "outputs": [
    {
     "name": "stdout",
     "output_type": "stream",
     "text": [
      "[[5.5, 4.2]]\n"
     ]
    }
   ],
   "source": [
    "c5=[]\n",
    "def n_ed(x,y):\n",
    "    n_d1=math.sqrt((x-n_x1)** 2 + (y-n_y1)**2)\n",
    "    if (n_d1 < math.sqrt((x-x1)** 2 + (y-y1)**2)):\n",
    "        c5.append([x,y])\n",
    "    else:\n",
    "        pass\n",
    "for i,j in c2:\n",
    "     n_ed(i,j)\n",
    "print(c5)"
   ]
  },
  {
   "cell_type": "code",
   "execution_count": 5,
   "metadata": {},
   "outputs": [
    {
     "name": "stdout",
     "output_type": "stream",
     "text": [
      "5.5 4.2\n"
     ]
    }
   ],
   "source": [
    "sumi=0\n",
    "sumj=0\n",
    "for i,j in c2:\n",
    "    sumi=sumi+i\n",
    "    sumj=sumj+j\n",
    "    \n",
    "n_x1=round(sumi/len(c2),4)\n",
    "n_y1=round(sumj/len(c2),4)\n",
    "print(n_x1,n_y1)"
   ]
  }
 ],
 "metadata": {
  "kernelspec": {
   "display_name": "Python 3",
   "language": "python",
   "name": "python3"
  },
  "language_info": {
   "codemirror_mode": {
    "name": "ipython",
    "version": 3
   },
   "file_extension": ".py",
   "mimetype": "text/x-python",
   "name": "python",
   "nbconvert_exporter": "python",
   "pygments_lexer": "ipython3",
   "version": "3.8.1"
  }
 },
 "nbformat": 4,
 "nbformat_minor": 4
}
