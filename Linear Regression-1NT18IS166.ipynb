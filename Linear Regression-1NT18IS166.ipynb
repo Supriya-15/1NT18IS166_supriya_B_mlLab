{
 "cells": [
  {
   "cell_type": "code",
   "execution_count": 1,
   "metadata": {},
   "outputs": [],
   "source": [
    "import pandas as pd\n",
    "import matplotlib.pyplot as plt\n",
    "import numpy as np\n",
    "from sklearn.linear_model import LinearRegression"
   ]
  },
  {
   "cell_type": "code",
   "execution_count": 2,
   "metadata": {},
   "outputs": [],
   "source": [
    "foodt=pd.read_csv(\"/home/exam/Desktop/Datasets-ML-Lab/Food-Truck-LineReg.csv\",header=None)"
   ]
  },
  {
   "cell_type": "code",
   "execution_count": 3,
   "metadata": {},
   "outputs": [
    {
     "name": "stdout",
     "output_type": "stream",
     "text": [
      "     6.1101    17.592\n",
      "0    5.5277   9.13020\n",
      "1    8.5186  13.66200\n",
      "2    7.0032  11.85400\n",
      "3    5.8598   6.82330\n",
      "4    8.3829  11.88600\n",
      "5    7.4764   4.34830\n",
      "6    8.5781  12.00000\n",
      "7    6.4862   6.59870\n",
      "8    5.0546   3.81660\n",
      "9    5.7107   3.25220\n",
      "10  14.1640  15.50500\n",
      "11   5.7340   3.15510\n",
      "12   8.4084   7.22580\n",
      "13   5.6407   0.71618\n",
      "14   5.3794   3.51290\n",
      "15   6.3654   5.30480\n",
      "16   5.1301   0.56077\n",
      "17   6.4296   3.65180\n",
      "18   7.0708   5.38930\n",
      "19   6.1891   3.13860\n",
      "20  20.2700  21.76700\n",
      "21   5.4901   4.26300\n",
      "22   6.3261   5.18750\n",
      "23   5.5649   3.08250\n",
      "24  18.9450  22.63800\n",
      "25  12.8280  13.50100\n",
      "26  10.9570   7.04670\n",
      "27  13.1760  14.69200\n",
      "28  22.2030  24.14700\n",
      "29   5.2524  -1.22000\n",
      "..      ...       ...\n",
      "66  10.2360   7.77540\n",
      "67   5.4994   1.01730\n",
      "68  20.3410  20.99200\n",
      "69  10.1360   6.67990\n",
      "70   7.3345   4.02590\n",
      "71   6.0062   1.27840\n",
      "72   7.2259   3.34110\n",
      "73   5.0269  -2.68070\n",
      "74   6.5479   0.29678\n",
      "75   7.5386   3.88450\n",
      "76   5.0365   5.70140\n",
      "77  10.2740   6.75260\n",
      "78   5.1077   2.05760\n",
      "79   5.7292   0.47953\n",
      "80   5.1884   0.20421\n",
      "81   6.3557   0.67861\n",
      "82   9.7687   7.54350\n",
      "83   6.5159   5.34360\n",
      "84   8.5172   4.24150\n",
      "85   9.1802   6.79810\n",
      "86   6.0020   0.92695\n",
      "87   5.5204   0.15200\n",
      "88   5.0594   2.82140\n",
      "89   5.7077   1.84510\n",
      "90   7.6366   4.29590\n",
      "91   5.8707   7.20290\n",
      "92   5.3054   1.98690\n",
      "93   8.2934   0.14454\n",
      "94  13.3940   9.05510\n",
      "95   5.4369   0.61705\n",
      "\n",
      "[96 rows x 2 columns]\n"
     ]
    }
   ],
   "source": [
    "food_label=pd.read_csv(\"/home/exam/Desktop/Datasets-ML-Lab/Food-Truck-LineReg.csv\")\n",
    "print(food_label)"
   ]
  },
  {
   "cell_type": "code",
   "execution_count": 4,
   "metadata": {},
   "outputs": [
    {
     "name": "stdout",
     "output_type": "stream",
     "text": [
      "          0         1\n",
      "0    6.1101  17.59200\n",
      "1    5.5277   9.13020\n",
      "2    8.5186  13.66200\n",
      "3    7.0032  11.85400\n",
      "4    5.8598   6.82330\n",
      "5    8.3829  11.88600\n",
      "6    7.4764   4.34830\n",
      "7    8.5781  12.00000\n",
      "8    6.4862   6.59870\n",
      "9    5.0546   3.81660\n",
      "10   5.7107   3.25220\n",
      "11  14.1640  15.50500\n",
      "12   5.7340   3.15510\n",
      "13   8.4084   7.22580\n",
      "14   5.6407   0.71618\n",
      "15   5.3794   3.51290\n",
      "16   6.3654   5.30480\n",
      "17   5.1301   0.56077\n",
      "18   6.4296   3.65180\n",
      "19   7.0708   5.38930\n",
      "20   6.1891   3.13860\n",
      "21  20.2700  21.76700\n",
      "22   5.4901   4.26300\n",
      "23   6.3261   5.18750\n",
      "24   5.5649   3.08250\n",
      "25  18.9450  22.63800\n",
      "26  12.8280  13.50100\n",
      "27  10.9570   7.04670\n",
      "28  13.1760  14.69200\n",
      "29  22.2030  24.14700\n",
      "..      ...       ...\n",
      "67  10.2360   7.77540\n",
      "68   5.4994   1.01730\n",
      "69  20.3410  20.99200\n",
      "70  10.1360   6.67990\n",
      "71   7.3345   4.02590\n",
      "72   6.0062   1.27840\n",
      "73   7.2259   3.34110\n",
      "74   5.0269  -2.68070\n",
      "75   6.5479   0.29678\n",
      "76   7.5386   3.88450\n",
      "77   5.0365   5.70140\n",
      "78  10.2740   6.75260\n",
      "79   5.1077   2.05760\n",
      "80   5.7292   0.47953\n",
      "81   5.1884   0.20421\n",
      "82   6.3557   0.67861\n",
      "83   9.7687   7.54350\n",
      "84   6.5159   5.34360\n",
      "85   8.5172   4.24150\n",
      "86   9.1802   6.79810\n",
      "87   6.0020   0.92695\n",
      "88   5.5204   0.15200\n",
      "89   5.0594   2.82140\n",
      "90   5.7077   1.84510\n",
      "91   7.6366   4.29590\n",
      "92   5.8707   7.20290\n",
      "93   5.3054   1.98690\n",
      "94   8.2934   0.14454\n",
      "95  13.3940   9.05510\n",
      "96   5.4369   0.61705\n",
      "\n",
      "[97 rows x 2 columns]\n"
     ]
    }
   ],
   "source": [
    "print(foodt)"
   ]
  },
  {
   "cell_type": "code",
   "execution_count": 5,
   "metadata": {},
   "outputs": [],
   "source": [
    "# x=foodt[0]\n",
    "# # for xx in x:\n",
    "# #     sqtx=x**x;\n",
    "# #     print(sqtx)\n",
    "# print(x)\n",
    "# y=foodt[1]\n",
    "\n",
    "# model=LinearRegression()\n",
    "# model.fit(x, y)\n",
    "\n",
    "# r_sq = model.score(x, y)\n",
    "# print('coefficient of determination:', r_sq)\n",
    "# print('intercept:', model.intercept_)\n",
    "# print('slope:', model.coef_)\n",
    "# print(\"\\n\\n\\n\")\n",
    "\n",
    "# new_model = LinearRegression().fit(x, y.reshape((-1, 1)))\n",
    "# print('intercept:', new_model.intercept_)\n",
    "# print('slope:', new_model.coef_)\n",
    "# print(\"\\n\\n\\n\")\n",
    "\n",
    "# y_pred = model.predict(x)\n",
    "# y_pred = model.intercept_ + model.coef_ * x\n",
    "# print('predicted response:', y_pred, sep='\\n')"
   ]
  },
  {
   "cell_type": "code",
   "execution_count": 6,
   "metadata": {},
   "outputs": [
    {
     "name": "stdout",
     "output_type": "stream",
     "text": [
      "0.00012897984786377177\n"
     ]
    }
   ],
   "source": [
    "x=foodt[0]\n",
    "y=foodt[1]\n",
    "sum_x=0;\n",
    "sum_y=0\n",
    "sum_sqrt_x=0\n",
    "sum_sqrt_y=0\n",
    "sum_xy=0\n",
    "for i in range(0,97):\n",
    "    sum_x+=x[i];\n",
    "    sum_y+=y[i];\n",
    "mean_x=sum_x/len(x)\n",
    "\n",
    "mean_y=sum_y/len(y)\n",
    "for i in range(0,97):\n",
    "    sum_sqrt_x+=x[i]**2\n",
    "    sum_sqrt_y+=y[i]**2\n",
    "\n",
    "for i in range(0,97):\n",
    "    sum_xy+=x[i]*y[i]\n",
    "    \n",
    "r=sum_xy/(sum_sqrt_x*sum_sqrt_y);\n",
    "print(r)\n",
    "#sqrtx=np.square(x);\n",
    "#sqrty=np.square(y);\n",
    "#print(sqrtx);\n",
    "#print(sqrty);"
   ]
  },
  {
   "cell_type": "code",
   "execution_count": 7,
   "metadata": {},
   "outputs": [
    {
     "name": "stdout",
     "output_type": "stream",
     "text": [
      "3.8498839959227156\n",
      "5.48178525707763\n"
     ]
    }
   ],
   "source": [
    "sub_mean=0\n",
    "sub_mean_y=0\n",
    "for i in range (0,len(x)):\n",
    "    sub_mean+=(x[i]-mean_x)**2\n",
    "sd_x=(sub_mean/len(x))**(1/2)\n",
    "print(sd_x)\n",
    "\n",
    "for i in range (0,len(y)):\n",
    "    sub_mean_y+=(y[i]-mean_y)**2\n",
    "sd_y=(sub_mean_y/len(y))**(1/2)\n",
    "print(sd_y)"
   ]
  },
  {
   "cell_type": "code",
   "execution_count": 8,
   "metadata": {},
   "outputs": [
    {
     "name": "stdout",
     "output_type": "stream",
     "text": [
      "0.00018365224230874023\n"
     ]
    }
   ],
   "source": [
    "m=r*sd_y/sd_x\n",
    "print(m)"
   ]
  },
  {
   "cell_type": "code",
   "execution_count": 9,
   "metadata": {},
   "outputs": [
    {
     "name": "stdout",
     "output_type": "stream",
     "text": [
      "5.8376364859795995\n"
     ]
    }
   ],
   "source": [
    "intercept=mean_y-(m*mean_x)\n",
    "print(intercept)"
   ]
  },
  {
   "cell_type": "code",
   "execution_count": 10,
   "metadata": {},
   "outputs": [
    {
     "name": "stdout",
     "output_type": "stream",
     "text": [
      "0     5.838759\n",
      "1     5.838652\n",
      "2     5.839201\n",
      "3     5.838923\n",
      "4     5.838713\n",
      "5     5.839176\n",
      "6     5.839010\n",
      "7     5.839212\n",
      "8     5.838828\n",
      "9     5.838565\n",
      "10    5.838685\n",
      "11    5.840238\n",
      "12    5.838690\n",
      "13    5.839181\n",
      "14    5.838672\n",
      "15    5.838624\n",
      "16    5.838806\n",
      "17    5.838579\n",
      "18    5.838817\n",
      "19    5.838935\n",
      "20    5.838773\n",
      "21    5.841359\n",
      "22    5.838645\n",
      "23    5.838798\n",
      "24    5.838658\n",
      "25    5.841116\n",
      "26    5.839992\n",
      "27    5.839649\n",
      "28    5.840056\n",
      "29    5.841714\n",
      "        ...   \n",
      "67    5.839516\n",
      "68    5.838646\n",
      "69    5.841372\n",
      "70    5.839498\n",
      "71    5.838983\n",
      "72    5.838740\n",
      "73    5.838964\n",
      "74    5.838560\n",
      "75    5.838839\n",
      "76    5.839021\n",
      "77    5.838561\n",
      "78    5.839523\n",
      "79    5.838575\n",
      "80    5.838689\n",
      "81    5.838589\n",
      "82    5.838804\n",
      "83    5.839431\n",
      "84    5.838833\n",
      "85    5.839201\n",
      "86    5.839322\n",
      "87    5.838739\n",
      "88    5.838650\n",
      "89    5.838566\n",
      "90    5.838685\n",
      "91    5.839039\n",
      "92    5.838715\n",
      "93    5.838611\n",
      "94    5.839160\n",
      "95    5.840096\n",
      "96    5.838635\n",
      "Name: 0, Length: 97, dtype: float64\n"
     ]
    }
   ],
   "source": [
    "# new_y[97]={0}\n",
    "# for i in range(0,len(y)):\n",
    "new_y=m*x+intercept\n",
    "print (new_y)\n",
    "\n"
   ]
  },
  {
   "cell_type": "code",
   "execution_count": 11,
   "metadata": {},
   "outputs": [
    {
     "name": "stdout",
     "output_type": "stream",
     "text": [
      "0     11.753241\n",
      "1      3.291548\n",
      "2      7.822799\n",
      "3      6.015077\n",
      "4      0.984587\n",
      "5      6.046824\n",
      "6     -1.490710\n",
      "7      6.160788\n",
      "8      0.759872\n",
      "9     -2.021965\n",
      "10    -2.586485\n",
      "11     9.664762\n",
      "12    -2.683590\n",
      "13     1.386619\n",
      "14    -5.122492\n",
      "15    -2.325724\n",
      "16    -0.534006\n",
      "17    -5.277809\n",
      "18    -2.187017\n",
      "19    -0.449635\n",
      "20    -2.700173\n",
      "21    15.925641\n",
      "22    -1.575645\n",
      "23    -0.651298\n",
      "24    -2.756158\n",
      "25    16.796884\n",
      "26     7.661008\n",
      "27     1.207051\n",
      "28     8.851944\n",
      "29    18.305286\n",
      "        ...    \n",
      "67     1.935884\n",
      "68    -4.821346\n",
      "69    15.150628\n",
      "70     0.840402\n",
      "71    -1.813083\n",
      "72    -4.560340\n",
      "73    -2.497864\n",
      "74    -8.519260\n",
      "75    -5.542059\n",
      "76    -1.954521\n",
      "77    -0.137161\n",
      "78     0.913077\n",
      "79    -3.780975\n",
      "80    -5.359159\n",
      "81    -5.634379\n",
      "82    -5.160194\n",
      "83     1.704069\n",
      "84    -0.495233\n",
      "85    -1.597701\n",
      "86     0.958778\n",
      "87    -4.911789\n",
      "88    -5.686650\n",
      "89    -3.017166\n",
      "90    -3.993585\n",
      "91    -1.543139\n",
      "92     1.364185\n",
      "93    -3.851711\n",
      "94    -5.694620\n",
      "95     3.215004\n",
      "96    -5.221585\n",
      "Length: 97, dtype: float64\n"
     ]
    }
   ],
   "source": [
    "error=y-new_y\n",
    "print(error)"
   ]
  },
  {
   "cell_type": "code",
   "execution_count": 12,
   "metadata": {},
   "outputs": [
    {
     "name": "stdout",
     "output_type": "stream",
     "text": [
      "sse    2914.2170923231056\n",
      "ssr   4.849081594849709e-05\n",
      "sst   2914.8470516572247\n",
      "R2   0.00021612088831934884\n"
     ]
    }
   ],
   "source": [
    "sse=0;\n",
    "for i in range(0,len(y)):\n",
    "    sse+=(y[i]-new_y[i])**2\n",
    "print(\"sse   \",+sse)\n",
    "\n",
    "ssr=0\n",
    "for i in range(0,len(y)):\n",
    "    ssr+=(new_y[i]-mean_y)**2\n",
    "print(\"ssr  \",+ssr)\n",
    "\n",
    "sst=0\n",
    "for i in range(0,len(y)):\n",
    "    sst+=(y[i]-mean_y)**2\n",
    "print(\"sst  \",+sst)\n",
    "\n",
    "# print(\"sst other method\")\n",
    "# sst1=ssr+sse\n",
    "# print(sst1)\n",
    "\n",
    "\n",
    "r=1-(sse/sst)\n",
    "print(\"R2  \",+r)"
   ]
  },
  {
   "cell_type": "code",
   "execution_count": 20,
   "metadata": {},
   "outputs": [],
   "source": [
    "from sklearn import linear_model\n",
    "from sklearn.model_selection import train_test_split\n",
    "x=np.array(x)\n",
    "y=np.array(y)\n",
    "x_train,x_test,y_train,y_test=train_test_split(x,y,test_size=1/3,random_state=0)"
   ]
  },
  {
   "cell_type": "code",
   "execution_count": 21,
   "metadata": {},
   "outputs": [],
   "source": [
    "# x_test=x_test.reshape(-1,1)\n",
    "# x_train=x_train.reshape(-1,1)\n",
    "\n",
    "lin_reg=LinearRegression()"
   ]
  },
  {
   "cell_type": "code",
   "execution_count": 22,
   "metadata": {},
   "outputs": [
    {
     "ename": "ValueError",
     "evalue": "Expected 2D array, got 1D array instead:\narray=[ 5.8707  5.3077 10.957   6.4296  6.2742 14.908   7.2259  5.5277  5.1793\n 11.708   6.8825  5.8598  5.3794  5.1301  5.4069 12.836   8.3829  5.5204\n  9.4536  6.1101  8.2111 13.176   7.5402 14.164   7.9334  6.3261  7.4239\n  5.7107  6.5894  5.7077  5.6397  7.5386  9.2482  6.3557  5.6407  5.0269\n  7.0708 22.203   5.5416  8.2934 13.394  20.341   6.1891  7.6366  6.0062\n  5.0365 18.945   5.6063  5.0702  6.3534  7.2182  9.3102  5.734  10.136\n  6.002   8.0959 20.27    9.7687  5.0546  5.3054 10.236  18.959   5.8014\n  7.8247].\nReshape your data either using array.reshape(-1, 1) if your data has a single feature or array.reshape(1, -1) if it contains a single sample.",
     "output_type": "error",
     "traceback": [
      "\u001b[0;31m---------------------------------------------------------------------------\u001b[0m",
      "\u001b[0;31mValueError\u001b[0m                                Traceback (most recent call last)",
      "\u001b[0;32m<ipython-input-22-65283ffbd3e4>\u001b[0m in \u001b[0;36m<module>\u001b[0;34m()\u001b[0m\n\u001b[0;32m----> 1\u001b[0;31m \u001b[0mlin_reg\u001b[0m\u001b[0;34m.\u001b[0m\u001b[0mfit\u001b[0m\u001b[0;34m(\u001b[0m\u001b[0mx_train\u001b[0m\u001b[0;34m,\u001b[0m\u001b[0mx_test\u001b[0m\u001b[0;34m)\u001b[0m\u001b[0;34m\u001b[0m\u001b[0m\n\u001b[0m",
      "\u001b[0;32m~/anaconda3/lib/python3.6/site-packages/sklearn/linear_model/_base.py\u001b[0m in \u001b[0;36mfit\u001b[0;34m(self, X, y, sample_weight)\u001b[0m\n\u001b[1;32m    517\u001b[0m \u001b[0;34m\u001b[0m\u001b[0m\n\u001b[1;32m    518\u001b[0m         X, y = self._validate_data(X, y, accept_sparse=accept_sparse,\n\u001b[0;32m--> 519\u001b[0;31m                                    y_numeric=True, multi_output=True)\n\u001b[0m\u001b[1;32m    520\u001b[0m \u001b[0;34m\u001b[0m\u001b[0m\n\u001b[1;32m    521\u001b[0m         \u001b[0;32mif\u001b[0m \u001b[0msample_weight\u001b[0m \u001b[0;32mis\u001b[0m \u001b[0;32mnot\u001b[0m \u001b[0;32mNone\u001b[0m\u001b[0;34m:\u001b[0m\u001b[0;34m\u001b[0m\u001b[0m\n",
      "\u001b[0;32m~/anaconda3/lib/python3.6/site-packages/sklearn/base.py\u001b[0m in \u001b[0;36m_validate_data\u001b[0;34m(self, X, y, reset, validate_separately, **check_params)\u001b[0m\n\u001b[1;32m    431\u001b[0m                 \u001b[0my\u001b[0m \u001b[0;34m=\u001b[0m \u001b[0mcheck_array\u001b[0m\u001b[0;34m(\u001b[0m\u001b[0my\u001b[0m\u001b[0;34m,\u001b[0m \u001b[0;34m**\u001b[0m\u001b[0mcheck_y_params\u001b[0m\u001b[0;34m)\u001b[0m\u001b[0;34m\u001b[0m\u001b[0m\n\u001b[1;32m    432\u001b[0m             \u001b[0;32melse\u001b[0m\u001b[0;34m:\u001b[0m\u001b[0;34m\u001b[0m\u001b[0m\n\u001b[0;32m--> 433\u001b[0;31m                 \u001b[0mX\u001b[0m\u001b[0;34m,\u001b[0m \u001b[0my\u001b[0m \u001b[0;34m=\u001b[0m \u001b[0mcheck_X_y\u001b[0m\u001b[0;34m(\u001b[0m\u001b[0mX\u001b[0m\u001b[0;34m,\u001b[0m \u001b[0my\u001b[0m\u001b[0;34m,\u001b[0m \u001b[0;34m**\u001b[0m\u001b[0mcheck_params\u001b[0m\u001b[0;34m)\u001b[0m\u001b[0;34m\u001b[0m\u001b[0m\n\u001b[0m\u001b[1;32m    434\u001b[0m             \u001b[0mout\u001b[0m \u001b[0;34m=\u001b[0m \u001b[0mX\u001b[0m\u001b[0;34m,\u001b[0m \u001b[0my\u001b[0m\u001b[0;34m\u001b[0m\u001b[0m\n\u001b[1;32m    435\u001b[0m \u001b[0;34m\u001b[0m\u001b[0m\n",
      "\u001b[0;32m~/anaconda3/lib/python3.6/site-packages/sklearn/utils/validation.py\u001b[0m in \u001b[0;36minner_f\u001b[0;34m(*args, **kwargs)\u001b[0m\n\u001b[1;32m     61\u001b[0m             \u001b[0mextra_args\u001b[0m \u001b[0;34m=\u001b[0m \u001b[0mlen\u001b[0m\u001b[0;34m(\u001b[0m\u001b[0margs\u001b[0m\u001b[0;34m)\u001b[0m \u001b[0;34m-\u001b[0m \u001b[0mlen\u001b[0m\u001b[0;34m(\u001b[0m\u001b[0mall_args\u001b[0m\u001b[0;34m)\u001b[0m\u001b[0;34m\u001b[0m\u001b[0m\n\u001b[1;32m     62\u001b[0m             \u001b[0;32mif\u001b[0m \u001b[0mextra_args\u001b[0m \u001b[0;34m<=\u001b[0m \u001b[0;36m0\u001b[0m\u001b[0;34m:\u001b[0m\u001b[0;34m\u001b[0m\u001b[0m\n\u001b[0;32m---> 63\u001b[0;31m                 \u001b[0;32mreturn\u001b[0m \u001b[0mf\u001b[0m\u001b[0;34m(\u001b[0m\u001b[0;34m*\u001b[0m\u001b[0margs\u001b[0m\u001b[0;34m,\u001b[0m \u001b[0;34m**\u001b[0m\u001b[0mkwargs\u001b[0m\u001b[0;34m)\u001b[0m\u001b[0;34m\u001b[0m\u001b[0m\n\u001b[0m\u001b[1;32m     64\u001b[0m \u001b[0;34m\u001b[0m\u001b[0m\n\u001b[1;32m     65\u001b[0m             \u001b[0;31m# extra_args > 0\u001b[0m\u001b[0;34m\u001b[0m\u001b[0;34m\u001b[0m\u001b[0m\n",
      "\u001b[0;32m~/anaconda3/lib/python3.6/site-packages/sklearn/utils/validation.py\u001b[0m in \u001b[0;36mcheck_X_y\u001b[0;34m(X, y, accept_sparse, accept_large_sparse, dtype, order, copy, force_all_finite, ensure_2d, allow_nd, multi_output, ensure_min_samples, ensure_min_features, y_numeric, estimator)\u001b[0m\n\u001b[1;32m    876\u001b[0m                     \u001b[0mensure_min_samples\u001b[0m\u001b[0;34m=\u001b[0m\u001b[0mensure_min_samples\u001b[0m\u001b[0;34m,\u001b[0m\u001b[0;34m\u001b[0m\u001b[0m\n\u001b[1;32m    877\u001b[0m                     \u001b[0mensure_min_features\u001b[0m\u001b[0;34m=\u001b[0m\u001b[0mensure_min_features\u001b[0m\u001b[0;34m,\u001b[0m\u001b[0;34m\u001b[0m\u001b[0m\n\u001b[0;32m--> 878\u001b[0;31m                     estimator=estimator)\n\u001b[0m\u001b[1;32m    879\u001b[0m     \u001b[0;32mif\u001b[0m \u001b[0mmulti_output\u001b[0m\u001b[0;34m:\u001b[0m\u001b[0;34m\u001b[0m\u001b[0m\n\u001b[1;32m    880\u001b[0m         y = check_array(y, accept_sparse='csr', force_all_finite=True,\n",
      "\u001b[0;32m~/anaconda3/lib/python3.6/site-packages/sklearn/utils/validation.py\u001b[0m in \u001b[0;36minner_f\u001b[0;34m(*args, **kwargs)\u001b[0m\n\u001b[1;32m     61\u001b[0m             \u001b[0mextra_args\u001b[0m \u001b[0;34m=\u001b[0m \u001b[0mlen\u001b[0m\u001b[0;34m(\u001b[0m\u001b[0margs\u001b[0m\u001b[0;34m)\u001b[0m \u001b[0;34m-\u001b[0m \u001b[0mlen\u001b[0m\u001b[0;34m(\u001b[0m\u001b[0mall_args\u001b[0m\u001b[0;34m)\u001b[0m\u001b[0;34m\u001b[0m\u001b[0m\n\u001b[1;32m     62\u001b[0m             \u001b[0;32mif\u001b[0m \u001b[0mextra_args\u001b[0m \u001b[0;34m<=\u001b[0m \u001b[0;36m0\u001b[0m\u001b[0;34m:\u001b[0m\u001b[0;34m\u001b[0m\u001b[0m\n\u001b[0;32m---> 63\u001b[0;31m                 \u001b[0;32mreturn\u001b[0m \u001b[0mf\u001b[0m\u001b[0;34m(\u001b[0m\u001b[0;34m*\u001b[0m\u001b[0margs\u001b[0m\u001b[0;34m,\u001b[0m \u001b[0;34m**\u001b[0m\u001b[0mkwargs\u001b[0m\u001b[0;34m)\u001b[0m\u001b[0;34m\u001b[0m\u001b[0m\n\u001b[0m\u001b[1;32m     64\u001b[0m \u001b[0;34m\u001b[0m\u001b[0m\n\u001b[1;32m     65\u001b[0m             \u001b[0;31m# extra_args > 0\u001b[0m\u001b[0;34m\u001b[0m\u001b[0;34m\u001b[0m\u001b[0m\n",
      "\u001b[0;32m~/anaconda3/lib/python3.6/site-packages/sklearn/utils/validation.py\u001b[0m in \u001b[0;36mcheck_array\u001b[0;34m(array, accept_sparse, accept_large_sparse, dtype, order, copy, force_all_finite, ensure_2d, allow_nd, ensure_min_samples, ensure_min_features, estimator)\u001b[0m\n\u001b[1;32m    696\u001b[0m                     \u001b[0;34m\"Reshape your data either using array.reshape(-1, 1) if \"\u001b[0m\u001b[0;34m\u001b[0m\u001b[0m\n\u001b[1;32m    697\u001b[0m                     \u001b[0;34m\"your data has a single feature or array.reshape(1, -1) \"\u001b[0m\u001b[0;34m\u001b[0m\u001b[0m\n\u001b[0;32m--> 698\u001b[0;31m                     \"if it contains a single sample.\".format(array))\n\u001b[0m\u001b[1;32m    699\u001b[0m \u001b[0;34m\u001b[0m\u001b[0m\n\u001b[1;32m    700\u001b[0m         \u001b[0;31m# make sure we actually converted to numeric:\u001b[0m\u001b[0;34m\u001b[0m\u001b[0;34m\u001b[0m\u001b[0m\n",
      "\u001b[0;31mValueError\u001b[0m: Expected 2D array, got 1D array instead:\narray=[ 5.8707  5.3077 10.957   6.4296  6.2742 14.908   7.2259  5.5277  5.1793\n 11.708   6.8825  5.8598  5.3794  5.1301  5.4069 12.836   8.3829  5.5204\n  9.4536  6.1101  8.2111 13.176   7.5402 14.164   7.9334  6.3261  7.4239\n  5.7107  6.5894  5.7077  5.6397  7.5386  9.2482  6.3557  5.6407  5.0269\n  7.0708 22.203   5.5416  8.2934 13.394  20.341   6.1891  7.6366  6.0062\n  5.0365 18.945   5.6063  5.0702  6.3534  7.2182  9.3102  5.734  10.136\n  6.002   8.0959 20.27    9.7687  5.0546  5.3054 10.236  18.959   5.8014\n  7.8247].\nReshape your data either using array.reshape(-1, 1) if your data has a single feature or array.reshape(1, -1) if it contains a single sample."
     ]
    }
   ],
   "source": [
    "lin_reg.fit(x_train,x_test)"
   ]
  },
  {
   "cell_type": "code",
   "execution_count": null,
   "metadata": {},
   "outputs": [],
   "source": [
    "%matplotlib inline\n",
    "\n",
    "import numpy as np\n",
    "import pandas as pd\n",
    "import matplotlib\n",
    "import matplotlib.pyplot as plt\n",
    "import scipy.stats as stats\n",
    "matplotlib.style.use('ggplot')\n",
    "\n",
    "foodt.plot(x,y,color=\"blue\")"
   ]
  },
  {
   "cell_type": "code",
   "execution_count": null,
   "metadata": {},
   "outputs": [],
   "source": [
    "plt.scatter(x,y,color=\"pink\")\n",
    "plt.plot(x,new_y,color=\"purple\")\n",
    "plt.show()"
   ]
  },
  {
   "cell_type": "code",
   "execution_count": null,
   "metadata": {},
   "outputs": [],
   "source": [
    "# for sklearn.linear_model import LinearRegression\n",
    "import numpy as np\n",
    "reg=LinearRegression()\n",
    "\n",
    "reg.fit(x_arr.reshape(-1,1),y_arr.reshape(-1,1))\n",
    "print(reg.intercept_)\n",
    "print(reg.coef_)"
   ]
  },
  {
   "cell_type": "code",
   "execution_count": null,
   "metadata": {},
   "outputs": [],
   "source": [
    "pred_y=reg.predict(np.array(x_test).reshape(-1,1))\n",
    "print(pred_y)"
   ]
  },
  {
   "cell_type": "code",
   "execution_count": null,
   "metadata": {},
   "outputs": [],
   "source": [
    "plt_scatter()\n",
    "\n"
   ]
  },
  {
   "cell_type": "code",
   "execution_count": null,
   "metadata": {},
   "outputs": [],
   "source": [
    "%matplotlib inline\n",
    "\n",
    "import numpy as np\n",
    "import pandas as pd\n",
    "import matplotlib\n",
    "import matplotlib.pyplot as plt\n",
    "import scipy.stats as stats\n",
    "matplotlib.style.use('ggplot')"
   ]
  }
 ],
 "metadata": {
  "kernelspec": {
   "display_name": "Python 3",
   "language": "python",
   "name": "python3"
  },
  "language_info": {
   "codemirror_mode": {
    "name": "ipython",
    "version": 3
   },
   "file_extension": ".py",
   "mimetype": "text/x-python",
   "name": "python",
   "nbconvert_exporter": "python",
   "pygments_lexer": "ipython3",
   "version": "3.6.5"
  }
 },
 "nbformat": 4,
 "nbformat_minor": 2
}
