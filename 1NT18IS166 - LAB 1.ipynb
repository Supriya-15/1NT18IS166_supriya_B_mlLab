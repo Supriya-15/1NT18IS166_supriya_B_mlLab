{
 "cells": [
  {
   "cell_type": "code",
   "execution_count": 1,
   "metadata": {},
   "outputs": [
    {
     "data": {
      "text/plain": [
       "[1, 3, 'A', 8]"
      ]
     },
     "execution_count": 1,
     "metadata": {},
     "output_type": "execute_result"
    }
   ],
   "source": [
    "L=[1,3,'A',8]\n",
    "L"
   ]
  },
  {
   "cell_type": "code",
   "execution_count": 2,
   "metadata": {},
   "outputs": [
    {
     "ename": "TypeError",
     "evalue": "list() takes at most 1 argument (3 given)",
     "output_type": "error",
     "traceback": [
      "\u001b[0;31m---------------------------------------------------------------------------\u001b[0m",
      "\u001b[0;31mTypeError\u001b[0m                                 Traceback (most recent call last)",
      "\u001b[0;32m<ipython-input-2-9abacf9d8cd4>\u001b[0m in \u001b[0;36m<module>\u001b[0;34m()\u001b[0m\n\u001b[0;32m----> 1\u001b[0;31m \u001b[0mm\u001b[0m\u001b[0;34m=\u001b[0m\u001b[0mlist\u001b[0m\u001b[0;34m(\u001b[0m\u001b[0;36m3\u001b[0m\u001b[0;34m,\u001b[0m\u001b[0;36m5\u001b[0m\u001b[0;34m,\u001b[0m\u001b[0;34m'd'\u001b[0m\u001b[0;34m)\u001b[0m\u001b[0;34m\u001b[0m\u001b[0m\n\u001b[0m\u001b[1;32m      2\u001b[0m \u001b[0mm\u001b[0m\u001b[0;34m\u001b[0m\u001b[0m\n",
      "\u001b[0;31mTypeError\u001b[0m: list() takes at most 1 argument (3 given)"
     ]
    }
   ],
   "source": [
    "m=list(3,5,'d')\n",
    "m\n"
   ]
  },
  {
   "cell_type": "code",
   "execution_count": 3,
   "metadata": {},
   "outputs": [
    {
     "ename": "TypeError",
     "evalue": "'type' object is not subscriptable",
     "output_type": "error",
     "traceback": [
      "\u001b[0;31m---------------------------------------------------------------------------\u001b[0m",
      "\u001b[0;31mTypeError\u001b[0m                                 Traceback (most recent call last)",
      "\u001b[0;32m<ipython-input-3-654a747a3842>\u001b[0m in \u001b[0;36m<module>\u001b[0;34m()\u001b[0m\n\u001b[0;32m----> 1\u001b[0;31m \u001b[0mm\u001b[0m\u001b[0;34m=\u001b[0m\u001b[0mlist\u001b[0m\u001b[0;34m[\u001b[0m\u001b[0;36m1\u001b[0m\u001b[0;34m,\u001b[0m\u001b[0;36m4\u001b[0m\u001b[0;34m,\u001b[0m\u001b[0;34m's'\u001b[0m\u001b[0;34m]\u001b[0m\u001b[0;34m\u001b[0m\u001b[0m\n\u001b[0m",
      "\u001b[0;31mTypeError\u001b[0m: 'type' object is not subscriptable"
     ]
    }
   ],
   "source": [
    "m=list[1,4,'s']"
   ]
  },
  {
   "cell_type": "code",
   "execution_count": 4,
   "metadata": {},
   "outputs": [
    {
     "data": {
      "text/plain": [
       "[1, 3, 4, 5, 9, 4, 5, 6]"
      ]
     },
     "execution_count": 4,
     "metadata": {},
     "output_type": "execute_result"
    }
   ],
   "source": [
    "l1=[1,3,4,5]\n",
    "l2=[9,4,5,6]\n",
    "l1+l2"
   ]
  },
  {
   "cell_type": "code",
   "execution_count": 8,
   "metadata": {},
   "outputs": [
    {
     "name": "stdout",
     "output_type": "stream",
     "text": [
      "12\n",
      "14\n",
      "13\n",
      "15\n",
      "17\n",
      "16\n",
      "16\n",
      "18\n",
      "17\n"
     ]
    }
   ],
   "source": [
    "l1=[5,8,9]\n",
    "l2=[7,9,8]\n",
    "for i in l1:\n",
    "    for j in l2:\n",
    "        print (i+j)"
   ]
  },
  {
   "cell_type": "code",
   "execution_count": 9,
   "metadata": {},
   "outputs": [
    {
     "data": {
      "text/plain": [
       "46"
      ]
     },
     "execution_count": 9,
     "metadata": {},
     "output_type": "execute_result"
    }
   ],
   "source": [
    "sum(l1+l2)"
   ]
  },
  {
   "cell_type": "code",
   "execution_count": 11,
   "metadata": {},
   "outputs": [
    {
     "data": {
      "text/plain": [
       "array([12, 17, 17])"
      ]
     },
     "execution_count": 11,
     "metadata": {},
     "output_type": "execute_result"
    }
   ],
   "source": [
    "import numpy as np\n",
    "np.add(l1,l2)"
   ]
  },
  {
   "cell_type": "code",
   "execution_count": 12,
   "metadata": {},
   "outputs": [
    {
     "name": "stdout",
     "output_type": "stream",
     "text": [
      "7\n",
      "16\n",
      "12\n"
     ]
    }
   ],
   "source": [
    "m=[1,7,5]\n",
    "n=[6,9,7]\n",
    "r=len(m)\n",
    "p=len(n)\n",
    "for i in range( 0,r):\n",
    "    for j in range(0,p):\n",
    "        if i==j:\n",
    "            print (m[i]+n[j])"
   ]
  },
  {
   "cell_type": "code",
   "execution_count": 13,
   "metadata": {},
   "outputs": [
    {
     "name": "stdout",
     "output_type": "stream",
     "text": [
      "enter the operation u want to performadd\n",
      "enter the first number4\n",
      "enter the second number5\n",
      "9\n"
     ]
    }
   ],
   "source": [
    "#l1=['add','sub','mul','div']\n",
    "m=input(\"enter the operation u want to perform  \")\n",
    "\n",
    "a=int(input(\"enter the first number   \"));\n",
    "b=int(input(\"enter the second number  \"));\n",
    "\n",
    "if m=='add':\n",
    "    print (a+b)\n",
    "elif m=='sub':\n",
    "    print (a-b)\n",
    "elif m=='mul':\n",
    "    print(a*b)\n",
    "elif m=='div':\n",
    "    print(a/b)\n",
    "else:\n",
    "    print(\"Can not perform the operation\")"
   ]
  },
  {
   "cell_type": "code",
   "execution_count": 15,
   "metadata": {},
   "outputs": [
    {
     "name": "stdout",
     "output_type": "stream",
     "text": [
      "[6, 8]\n"
     ]
    }
   ],
   "source": [
    "p1=[5,6,7,8]\n",
    "print(p1[1::+2])"
   ]
  },
  {
   "cell_type": "markdown",
   "metadata": {},
   "source": [
    "## simple calculator 2"
   ]
  },
  {
   "cell_type": "code",
   "execution_count": 18,
   "metadata": {},
   "outputs": [
    {
     "name": "stdout",
     "output_type": "stream",
     "text": [
      "Enter your choice\n",
      "1- Add\n",
      "2- Subtract\n"
     ]
    }
   ],
   "source": [
    "def add(x,y):\n",
    "    return x+y\n",
    "def sub(x,y):\n",
    "    return x-y\n",
    "def mul(x,y):\n",
    "    return x*y\n",
    "def div(x,y):\n",
    "    return x/y\n",
    "\n",
    "print(\"Enter your choice\")\n",
    "print(\"1- Add\")\n",
    "print(\"2- Subtract\")\n"
   ]
  },
  {
   "cell_type": "markdown",
   "metadata": {},
   "source": [
    "## bubble sort"
   ]
  },
  {
   "cell_type": "code",
   "execution_count": 34,
   "metadata": {},
   "outputs": [
    {
     "data": {
      "text/plain": [
       "[2, 2, 3, 5, 6, 7, 9, 9]"
      ]
     },
     "execution_count": 34,
     "metadata": {},
     "output_type": "execute_result"
    }
   ],
   "source": [
    "l1=[9,3,5,2,6,2,7,9]\n",
    "n=len(l1)\n",
    "for i in range(0,n-1):\n",
    "    for j in range(0,n-i-1):\n",
    "        if(l1[j]>l1[j+1]):\n",
    "            temp=l1[j]\n",
    "            l1[j]=l1[j+1]\n",
    "            l1[j+1]=temp\n",
    "l1"
   ]
  },
  {
   "cell_type": "code",
   "execution_count": 37,
   "metadata": {},
   "outputs": [
    {
     "name": "stdout",
     "output_type": "stream",
     "text": [
      "The mean of l3 is \n",
      "6.2\n",
      "\n",
      "\n",
      "Median of l3 is \n",
      "6\n",
      "\n",
      "\n",
      "Mode of l3 \n",
      "5\n"
     ]
    }
   ],
   "source": [
    "\n",
    "l3=[5,6,7,8,4,9,5,6,7,5]\n",
    "print (\"The mean of l3 is \")\n",
    "n=len(l3)\n",
    "total=0\n",
    "for i in range (0,n):\n",
    "    total+=l3[i]\n",
    "mean=total/n\n",
    "print(mean)\n",
    "print(\"\\n\")\n",
    "\n",
    "#l1=[3,5,2,6,7,9]\n",
    "#n=len(l1)\n",
    "for i in range(0,n-1):\n",
    "    for j in range(0,n-i-1):\n",
    "        if(l3[j]>l3[j+1]):\n",
    "            temp=l3[j]\n",
    "            l3[j]=l3[j+1]\n",
    "            l3[j+1]=temp\n",
    "            \n",
    "print(\"Median of l3 is \")\n",
    "m=n/2\n",
    "if m%2==0:\n",
    "    mid=(l3[m]+l3[m+1])/2\n",
    "else:\n",
    "    mid=l3[int(m)]\n",
    "\n",
    "print(mid)\n",
    "print(\"\\n\")\n",
    "#l3=[5,6,7,8,4,9,5,6,7,6,5]\n",
    "print(\"Mode of l3 \")\n",
    "\n",
    "#m=int(input(\"enter the mode of the number u want to find \"))\n",
    "max=0;\n",
    "res=l3[0]\n",
    "cur=0\n",
    "for i in range(1,n):\n",
    "    if(l3[i]==l3[i-1]):\n",
    "        cur=cur+1\n",
    "    else:\n",
    "        if cur > max:\n",
    "            max=cur\n",
    "            res=l3[i-1]\n",
    "        cur=1\n",
    "    \n",
    "if cur >max:\n",
    "    max=cur\n",
    "    res=l3[n-1]\n",
    "            \n",
    "    \n",
    "print (res)\n",
    "\n"
   ]
  },
  {
   "cell_type": "markdown",
   "metadata": {},
   "source": [
    "# Lab 2\n"
   ]
  },
  {
   "cell_type": "code",
   "execution_count": 45,
   "metadata": {},
   "outputs": [
    {
     "name": "stdout",
     "output_type": "stream",
     "text": [
      "[2, 2, 4, 5, 6, 7, 8, 9]\n",
      "5.375\n",
      "Median of l3 is \n",
      "6.5\n",
      "the variance  of the given set is 5.984375\n",
      "the standard deviation is  2.4462982238476156\n",
      "Normalisation\n",
      "0.0\n",
      "0.0\n",
      "0.2857142857142857\n",
      "0.42857142857142855\n",
      "0.5714285714285714\n",
      "0.7142857142857143\n",
      "0.8571428571428571\n",
      "1.0\n",
      "Standardisation\n",
      "1.3861257690121698\n"
     ]
    }
   ],
   "source": [
    "l3=[2,5,4,6,7,2,8,9]\n",
    "len1=len(l3)\n",
    "for i in range (0,len1):\n",
    "    minc=i\n",
    "    for j in range (i+1,len1):\n",
    "        if l3[j]<l3[minc]:\n",
    "            \n",
    "            temp=l3[j]\n",
    "            l3[j]=l3[minc]\n",
    "            l3[minc]=temp        \n",
    "print (l3)\n",
    "\n",
    "total=0\n",
    "for i in range(0,len1):\n",
    "    total=total+l3[i]\n",
    "\n",
    "mean=total/len1;\n",
    "\n",
    "print(mean)\n",
    "\n",
    "print(\"Median of l3 is \")\n",
    "m=int(len1/2)\n",
    "if (m%2)==0:\n",
    "    mid=(l3[m]+l3[m+1])/2\n",
    "else:\n",
    "    mid=l3[int(m)]\n",
    "\n",
    "print(mid)\n",
    "\n",
    "s=0\n",
    "for i in range (0,len1):\n",
    "    s=s+((abs(mean-l3[i])**2)/(len1))\n",
    "print (\"the variance  of the given set is\",+s)\n",
    "\n",
    "sql=s**0.5;\n",
    "print(\"the standard deviation is \",+sql)\n",
    "\n",
    "#normalisation\n",
    "minc=l3[0]\n",
    "maxc=l3[-1]\n",
    "print(\"Normalisation\")\n",
    "for i in range(0,len1):\n",
    "    X=(l3[i]-minc)/(maxc-minc)\n",
    "    print(X)\n",
    "    \n",
    "#standardisation\n",
    "print(\"Standardisation\")\n",
    "for i in range(0,len1):\n",
    "    Y+=(l3[i]-mean)/sql\n",
    "print(Y)\n"
   ]
  },
  {
   "cell_type": "code",
   "execution_count": 44,
   "metadata": {},
   "outputs": [
    {
     "data": {
      "text/plain": [
       "2.4462982238476156"
      ]
     },
     "execution_count": 44,
     "metadata": {},
     "output_type": "execute_result"
    }
   ],
   "source": [
    "import numpy as np\n",
    "from scipy import stats\n",
    "l4=[5,3,4,7,8,2,10,11,6,6,2]\n",
    "a=np.array([2,2,4,5,6,7,8,9])\n",
    "#np.mean(a)\n",
    "np.median(a,axis=0)\n",
    "np.std(a)\n",
    "#stats.mode(a)"
   ]
  },
  {
   "cell_type": "code",
   "execution_count": null,
   "metadata": {},
   "outputs": [],
   "source": []
  }
 ],
 "metadata": {
  "kernelspec": {
   "display_name": "Python 3",
   "language": "python",
   "name": "python3"
  },
  "language_info": {
   "codemirror_mode": {
    "name": "ipython",
    "version": 3
   },
   "file_extension": ".py",
   "mimetype": "text/x-python",
   "name": "python",
   "nbconvert_exporter": "python",
   "pygments_lexer": "ipython3",
   "version": "3.6.5"
  }
 },
 "nbformat": 4,
 "nbformat_minor": 2
}
