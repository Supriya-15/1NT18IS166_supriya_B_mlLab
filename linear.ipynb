{
 "cells": [
  {
   "cell_type": "code",
   "execution_count": 1,
   "metadata": {},
   "outputs": [],
   "source": [
    "import pandas as pd\n",
    "from matplotlib import pyplot as plt\n",
    "import numpy as np\n"
   ]
  },
  {
   "cell_type": "code",
   "execution_count": 2,
   "metadata": {},
   "outputs": [],
   "source": [
    "df =pd.read_csv(\"Food-Truck-LineReg.csv\",header=None)"
   ]
  },
  {
   "cell_type": "code",
   "execution_count": 3,
   "metadata": {},
   "outputs": [
    {
     "name": "stdout",
     "output_type": "stream",
     "text": [
      "          0         1\n",
      "0    6.1101  17.59200\n",
      "1    5.5277   9.13020\n",
      "2    8.5186  13.66200\n",
      "3    7.0032  11.85400\n",
      "4    5.8598   6.82330\n",
      "..      ...       ...\n",
      "92   5.8707   7.20290\n",
      "93   5.3054   1.98690\n",
      "94   8.2934   0.14454\n",
      "95  13.3940   9.05510\n",
      "96   5.4369   0.61705\n",
      "\n",
      "[97 rows x 2 columns]\n"
     ]
    }
   ],
   "source": [
    "print(df)"
   ]
  },
  {
   "cell_type": "code",
   "execution_count": 4,
   "metadata": {},
   "outputs": [],
   "source": [
    "x=df.iloc[:,0].tolist()\n",
    "y=df.iloc[:,1].tolist()"
   ]
  },
  {
   "cell_type": "code",
   "execution_count": 5,
   "metadata": {},
   "outputs": [],
   "source": [
    "# from sklearn.model_selection import train_test_split\n",
    "# x,x_test,y,y_test=train_test_split(X,Y,test_size=0.2,random_state=111)"
   ]
  },
  {
   "cell_type": "code",
   "execution_count": 6,
   "metadata": {},
   "outputs": [],
   "source": [
    "x_sum=0\n",
    "y_sum=0\n",
    "x_sum_sq=0\n",
    "y_sum_sq=0\n",
    "xy_sum=0\n",
    "n=len(x)\n",
    "xy=[None]*n\n",
    "for i in range(n):\n",
    "    x_sum+=x[i]\n",
    "    y_sum+=y[i]\n",
    "    x_sum_sq+=(x[i]**2)\n",
    "    y_sum_sq+=(x[i]**2)\n",
    "    xy_sum+=x[i]*y[i]\n",
    "    xy[i]=x[i]*y[i]\n",
    "x_mean=x_sum/n\n",
    "y_mean=y_sum/n\n",
    "xy_mean=xy_sum/n\n"
   ]
  },
  {
   "cell_type": "code",
   "execution_count": 13,
   "metadata": {},
   "outputs": [
    {
     "data": {
      "text/html": [
       "<div>\n",
       "<style scoped>\n",
       "    .dataframe tbody tr th:only-of-type {\n",
       "        vertical-align: middle;\n",
       "    }\n",
       "\n",
       "    .dataframe tbody tr th {\n",
       "        vertical-align: top;\n",
       "    }\n",
       "\n",
       "    .dataframe thead th {\n",
       "        text-align: right;\n",
       "    }\n",
       "</style>\n",
       "<table border=\"1\" class=\"dataframe\">\n",
       "  <thead>\n",
       "    <tr style=\"text-align: right;\">\n",
       "      <th></th>\n",
       "      <th>0</th>\n",
       "      <th>1</th>\n",
       "    </tr>\n",
       "  </thead>\n",
       "  <tbody>\n",
       "    <tr>\n",
       "      <th>0</th>\n",
       "      <td>1.000000</td>\n",
       "      <td>0.837873</td>\n",
       "    </tr>\n",
       "    <tr>\n",
       "      <th>1</th>\n",
       "      <td>0.837873</td>\n",
       "      <td>1.000000</td>\n",
       "    </tr>\n",
       "  </tbody>\n",
       "</table>\n",
       "</div>"
      ],
      "text/plain": [
       "          0         1\n",
       "0  1.000000  0.837873\n",
       "1  0.837873  1.000000"
      ]
     },
     "execution_count": 13,
     "metadata": {},
     "output_type": "execute_result"
    }
   ],
   "source": [
    "df.corr()"
   ]
  },
  {
   "cell_type": "code",
   "execution_count": 7,
   "metadata": {},
   "outputs": [],
   "source": [
    "x_std=0\n",
    "y_std=0\n",
    "for i in range(n):\n",
    "    x_std+=((x[i]-x_mean)**2)\n",
    "    y_std+=((y[i]-y_mean)**2)\n",
    "x_std=(x_std/n)**(1/2)\n",
    "y_std=(y_std/n)**(1/2)"
   ]
  },
  {
   "cell_type": "code",
   "execution_count": 8,
   "metadata": {},
   "outputs": [],
   "source": [
    "r=(xy_sum)/((x_sum_sq* y_sum_sq)**1/2)"
   ]
  },
  {
   "cell_type": "code",
   "execution_count": 9,
   "metadata": {},
   "outputs": [
    {
     "name": "stdout",
     "output_type": "stream",
     "text": [
      "1.1930336441895992\n",
      "-3.8957808783119043\n"
     ]
    }
   ],
   "source": [
    "\n",
    "m=((n*xy_sum)-(x_sum*y_sum))/((n*x_sum_sq)-((x_sum)**2))\n",
    "print(m)\n",
    "c=y_mean-(m*x_mean)\n",
    "print(c)\n",
    "# c=(((y_sum)*(x_sum_sq))-((x_sum)(xy_sum)))/((n*x_sum_sq)-((x_sum)**2))\n",
    "# print(c)"
   ]
  },
  {
   "cell_type": "code",
   "execution_count": 10,
   "metadata": {},
   "outputs": [
    {
     "data": {
      "text/plain": [
       "<matplotlib.collections.PathCollection at 0x10ce1c28>"
      ]
     },
     "execution_count": 10,
     "metadata": {},
     "output_type": "execute_result"
    },
    {
     "data": {
      "image/png": "[encoded data removed]",
      "text/plain": [
       "<Figure size 432x288 with 1 Axes>"
      ]
     },
     "metadata": {
      "needs_background": "light"
     },
     "output_type": "display_data"
    }
   ],
   "source": [
    "y_pred=list()\n",
    "for i in range(0,n):\n",
    "    y_pred.append((m*x[i]+c))\n",
    "plt.plot(x,y_pred)\n",
    "plt.scatter(x,y)"
   ]
  },
  {
   "cell_type": "code",
   "execution_count": 11,
   "metadata": {},
   "outputs": [
    {
     "name": "stdout",
     "output_type": "stream",
     "text": [
      "SST :2914.8470516572247\n",
      " SSE :868.532446939185\n",
      "SSR:2046.3146047180594\n",
      " MSE:2443.222842753286\n",
      " COST:49.42896764806328\n",
      " R2:0.7020315537841464\n"
     ]
    }
   ],
   "source": [
    "SST=0\n",
    "SSE=0\n",
    "SSR=0\n",
    "MSE=0\n",
    "# m=len(X)\n",
    "for i in range(0,n):\n",
    "    SST+=((y[i]-y_mean)**2)\n",
    "    SSE+=((y[i]-y_pred[i])**2)\n",
    "    SSR+=((y_pred[i]-y_mean)**2)\n",
    "MSE=SST/m\n",
    "cost=pow(MSE,(1/2))\n",
    "R2=SSR/SST\n",
    "print(\"SST :{}\\n SSE :{}\\nSSR:{}\\n MSE:{}\\n COST:{}\\n R2:{}\".format(SST,SSE,SSR,MSE,cost,R2))"
   ]
  },
  {
   "cell_type": "code",
   "execution_count": 12,
   "metadata": {},
   "outputs": [
    {
     "name": "stdout",
     "output_type": "stream",
     "text": [
      "-3.895780878311852\n",
      "[1.19303364]\n"
     ]
    }
   ],
   "source": [
    "from sklearn.linear_model import LinearRegression\n",
    "import numpy as np\n",
    "reg = LinearRegression()\n",
    "x_arr = np.array(x)\n",
    "y_arr = np.array(y)\n",
    "reg.fit(x_arr.reshape(-1,1), y_arr)\n",
    "print(reg.intercept_)\n",
    "print(reg.coef_)"
   ]
  },
  {
   "cell_type": "code",
   "execution_count": null,
   "metadata": {},
   "outputs": [],
   "source": []
  }
 ],
 "metadata": {
  "kernelspec": {
   "display_name": "Python 3",
   "language": "python",
   "name": "python3"
  },
  "language_info": {
   "codemirror_mode": {
    "name": "ipython",
    "version": 3
   },
   "file_extension": ".py",
   "mimetype": "text/x-python",
   "name": "python",
   "nbconvert_exporter": "python",
   "pygments_lexer": "ipython3",
   "version": "3.8.1"
  }
 },
 "nbformat": 4,
 "nbformat_minor": 4
}
